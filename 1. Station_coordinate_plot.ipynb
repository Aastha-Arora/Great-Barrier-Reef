{
 "cells": [
  {
   "cell_type": "code",
   "execution_count": 1,
   "metadata": {},
   "outputs": [],
   "source": [
    "import pandas as pd\n",
    "import requests\n",
    "from config import gkey\n",
    "import gmaps\n",
    "gmaps.configure(api_key=gkey)\n",
    "\n",
    "import matplotlib.pyplot as plt"
   ]
  },
  {
   "cell_type": "code",
   "execution_count": 2,
   "metadata": {},
   "outputs": [
    {
     "data": {
      "text/html": [
       "<div>\n",
       "<style scoped>\n",
       "    .dataframe tbody tr th:only-of-type {\n",
       "        vertical-align: middle;\n",
       "    }\n",
       "\n",
       "    .dataframe tbody tr th {\n",
       "        vertical-align: top;\n",
       "    }\n",
       "\n",
       "    .dataframe thead th {\n",
       "        text-align: right;\n",
       "    }\n",
       "</style>\n",
       "<table border=\"1\" class=\"dataframe\">\n",
       "  <thead>\n",
       "    <tr style=\"text-align: right;\">\n",
       "      <th></th>\n",
       "      <th>Station Name</th>\n",
       "      <th>Latitude</th>\n",
       "      <th>Longitude</th>\n",
       "    </tr>\n",
       "  </thead>\n",
       "  <tbody>\n",
       "    <tr>\n",
       "      <td>0</td>\n",
       "      <td>Torres Strait</td>\n",
       "      <td>-9.950</td>\n",
       "      <td>143.650</td>\n",
       "    </tr>\n",
       "    <tr>\n",
       "      <td>1</td>\n",
       "      <td>Far Northern GBR</td>\n",
       "      <td>-12.675</td>\n",
       "      <td>144.100</td>\n",
       "    </tr>\n",
       "    <tr>\n",
       "      <td>2</td>\n",
       "      <td>Northern GBR</td>\n",
       "      <td>-16.100</td>\n",
       "      <td>145.975</td>\n",
       "    </tr>\n",
       "    <tr>\n",
       "      <td>3</td>\n",
       "      <td>Central GBR</td>\n",
       "      <td>-19.225</td>\n",
       "      <td>148.275</td>\n",
       "    </tr>\n",
       "    <tr>\n",
       "      <td>4</td>\n",
       "      <td>Southern GBR</td>\n",
       "      <td>-22.625</td>\n",
       "      <td>151.125</td>\n",
       "    </tr>\n",
       "    <tr>\n",
       "      <td>5</td>\n",
       "      <td>Northern Coral Sea Islands</td>\n",
       "      <td>-16.000</td>\n",
       "      <td>149.350</td>\n",
       "    </tr>\n",
       "    <tr>\n",
       "      <td>6</td>\n",
       "      <td>Southern Coral Sea Islands</td>\n",
       "      <td>-21.100</td>\n",
       "      <td>153.975</td>\n",
       "    </tr>\n",
       "  </tbody>\n",
       "</table>\n",
       "</div>"
      ],
      "text/plain": [
       "                 Station Name  Latitude  Longitude\n",
       "0               Torres Strait    -9.950    143.650\n",
       "1            Far Northern GBR   -12.675    144.100\n",
       "2                Northern GBR   -16.100    145.975\n",
       "3                 Central GBR   -19.225    148.275\n",
       "4                Southern GBR   -22.625    151.125\n",
       "5  Northern Coral Sea Islands   -16.000    149.350\n",
       "6  Southern Coral Sea Islands   -21.100    153.975"
      ]
     },
     "execution_count": 2,
     "metadata": {},
     "output_type": "execute_result"
    }
   ],
   "source": [
    "# Importing the station coordinate data\n",
    "station_coordinate = pd.read_csv('Resources/station_coordinates.csv')\n",
    "station_coordinate"
   ]
  },
  {
   "cell_type": "code",
   "execution_count": 3,
   "metadata": {},
   "outputs": [
    {
     "data": {
      "application/vnd.jupyter.widget-view+json": {
       "model_id": "d1430cb8c2ff434d88f9808fd6e97a15",
       "version_major": 2,
       "version_minor": 0
      },
      "text/plain": [
       "Figure(layout=FigureLayout(height='500px', width='600px'))"
      ]
     },
     "metadata": {},
     "output_type": "display_data"
    }
   ],
   "source": [
    "fig = gmaps.figure(layout = {'width': '600px',\n",
    "                            'height': '500px'})\n",
    "markers = gmaps.marker_layer(station_coordinate[['Latitude','Longitude']],\n",
    "                             info_box_content=station_coordinate['Station Name'].tolist())\n",
    "fig.add_layer(markers)\n",
    "fig"
   ]
  },
  {
   "cell_type": "code",
   "execution_count": null,
   "metadata": {},
   "outputs": [],
   "source": []
  }
 ],
 "metadata": {
  "kernelspec": {
   "display_name": "Python 3",
   "language": "python",
   "name": "python3"
  },
  "language_info": {
   "codemirror_mode": {
    "name": "ipython",
    "version": 3
   },
   "file_extension": ".py",
   "mimetype": "text/x-python",
   "name": "python",
   "nbconvert_exporter": "python",
   "pygments_lexer": "ipython3",
   "version": "3.7.4"
  }
 },
 "nbformat": 4,
 "nbformat_minor": 2
}
