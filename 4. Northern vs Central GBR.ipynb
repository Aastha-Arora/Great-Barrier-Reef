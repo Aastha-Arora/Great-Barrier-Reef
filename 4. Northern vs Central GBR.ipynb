{
 "cells": [
  {
   "cell_type": "markdown",
   "metadata": {},
   "source": [
    "### Comparing the Sea Surface Temperature in the Northern Great Barrier Reef with the Central Great Barrier Reef"
   ]
  },
  {
   "cell_type": "markdown",
   "metadata": {},
   "source": [
    "#### The comparison is made for the summer months (Dec-Mar) for the Last Five Years"
   ]
  },
  {
   "cell_type": "code",
   "execution_count": 1,
   "metadata": {},
   "outputs": [],
   "source": [
    "import pandas as pd\n",
    "import numpy as np\n",
    "import scipy.stats as sts\n",
    "import matplotlib.pyplot as plt"
   ]
  },
  {
   "cell_type": "code",
   "execution_count": 2,
   "metadata": {},
   "outputs": [],
   "source": [
    "# Importing the Northern GBR data and setting the date as index colum\n",
    "northern = pd.read_fwf('Resources/gbr_northern.txt')\n",
    "northern = northern.rename(columns={'YYYY': 'Year',\n",
    "                           'MM': 'Month',\n",
    "                           'DD': 'Day'\n",
    "                          })\n",
    "\n",
    "northern['Date'] = northern['Month'].astype(str)+ '/'+ northern['Day'].astype(str) \\\n",
    "                    + '/' + northern['Year'].astype(str)\n",
    "\n",
    "northern = northern[['Date','SST@90th_HS']]\n",
    "northern = northern.set_index('Date')"
   ]
  },
  {
   "cell_type": "code",
   "execution_count": 3,
   "metadata": {},
   "outputs": [
    {
     "data": {
      "text/html": [
       "<div>\n",
       "<style scoped>\n",
       "    .dataframe tbody tr th:only-of-type {\n",
       "        vertical-align: middle;\n",
       "    }\n",
       "\n",
       "    .dataframe tbody tr th {\n",
       "        vertical-align: top;\n",
       "    }\n",
       "\n",
       "    .dataframe thead th {\n",
       "        text-align: right;\n",
       "    }\n",
       "</style>\n",
       "<table border=\"1\" class=\"dataframe\">\n",
       "  <thead>\n",
       "    <tr style=\"text-align: right;\">\n",
       "      <th></th>\n",
       "      <th>Date</th>\n",
       "      <th>SST@90th_HS</th>\n",
       "      <th>Year</th>\n",
       "    </tr>\n",
       "  </thead>\n",
       "  <tbody>\n",
       "    <tr>\n",
       "      <td>0</td>\n",
       "      <td>12/1/2015</td>\n",
       "      <td>28.32</td>\n",
       "      <td>2015-16</td>\n",
       "    </tr>\n",
       "    <tr>\n",
       "      <td>1</td>\n",
       "      <td>12/2/2015</td>\n",
       "      <td>27.85</td>\n",
       "      <td>2015-16</td>\n",
       "    </tr>\n",
       "    <tr>\n",
       "      <td>2</td>\n",
       "      <td>12/3/2015</td>\n",
       "      <td>28.06</td>\n",
       "      <td>2015-16</td>\n",
       "    </tr>\n",
       "    <tr>\n",
       "      <td>3</td>\n",
       "      <td>12/4/2015</td>\n",
       "      <td>27.93</td>\n",
       "      <td>2015-16</td>\n",
       "    </tr>\n",
       "    <tr>\n",
       "      <td>4</td>\n",
       "      <td>12/5/2015</td>\n",
       "      <td>28.24</td>\n",
       "      <td>2015-16</td>\n",
       "    </tr>\n",
       "  </tbody>\n",
       "</table>\n",
       "</div>"
      ],
      "text/plain": [
       "        Date  SST@90th_HS     Year\n",
       "0  12/1/2015        28.32  2015-16\n",
       "1  12/2/2015        27.85  2015-16\n",
       "2  12/3/2015        28.06  2015-16\n",
       "3  12/4/2015        27.93  2015-16\n",
       "4  12/5/2015        28.24  2015-16"
      ]
     },
     "execution_count": 3,
     "metadata": {},
     "output_type": "execute_result"
    }
   ],
   "source": [
    "# Filtering the data for the summer months (Dec-Mar) for last five years\n",
    "summer_2015_16 = northern.loc['12/1/2015':'3/31/2016']\n",
    "summer_2016_17 = northern.loc['12/1/2016':'3/31/2017']\n",
    "summer_2017_18 = northern.loc['12/1/2017':'3/31/2018']\n",
    "summer_2018_19 = northern.loc['12/1/2018':'3/31/2019']\n",
    "summer_2019_20 = northern.loc['12/1/2019':'3/31/2020']\n",
    "summer_2015_16_df = summer_2015_16.reset_index()\n",
    "summer_2016_17_df = summer_2016_17.reset_index()\n",
    "summer_2017_18_df = summer_2017_18.reset_index()\n",
    "summer_2018_19_df = summer_2018_19.reset_index()\n",
    "summer_2019_20_df = summer_2019_20.reset_index()\n",
    "summer_2015_16_df['Year'] = '2015-16'\n",
    "summer_2016_17_df['Year'] = '2016-17'\n",
    "summer_df = pd.merge(summer_2015_16_df, summer_2016_17_df,how='outer') #merging df for 2015_16 and 2016_17\n",
    "summer_2017_18_df['Year'] = '2017-18'\n",
    "summer_df = pd.merge(summer_df, summer_2017_18_df, how='outer')\n",
    "summer_2018_19_df['Year'] = '2018-19'\n",
    "summer_df = pd.merge(summer_df, summer_2018_19_df, how='outer')\n",
    "summer_2019_20_df['Year'] = '2019-20'\n",
    "summer_northern = pd.merge(summer_df, summer_2019_20_df, how='outer') #data for all 5 years\n",
    "summer_northern.head()"
   ]
  },
  {
   "cell_type": "code",
   "execution_count": 4,
   "metadata": {},
   "outputs": [
    {
     "data": {
      "text/html": [
       "<div>\n",
       "<style scoped>\n",
       "    .dataframe tbody tr th:only-of-type {\n",
       "        vertical-align: middle;\n",
       "    }\n",
       "\n",
       "    .dataframe tbody tr th {\n",
       "        vertical-align: top;\n",
       "    }\n",
       "\n",
       "    .dataframe thead th {\n",
       "        text-align: right;\n",
       "    }\n",
       "</style>\n",
       "<table border=\"1\" class=\"dataframe\">\n",
       "  <thead>\n",
       "    <tr style=\"text-align: right;\">\n",
       "      <th></th>\n",
       "      <th>Date</th>\n",
       "      <th>SST@90th_HS</th>\n",
       "      <th>Year</th>\n",
       "    </tr>\n",
       "  </thead>\n",
       "  <tbody>\n",
       "    <tr>\n",
       "      <td>0</td>\n",
       "      <td>12/1/2015</td>\n",
       "      <td>27.99</td>\n",
       "      <td>2015-16</td>\n",
       "    </tr>\n",
       "    <tr>\n",
       "      <td>1</td>\n",
       "      <td>12/2/2015</td>\n",
       "      <td>27.76</td>\n",
       "      <td>2015-16</td>\n",
       "    </tr>\n",
       "    <tr>\n",
       "      <td>2</td>\n",
       "      <td>12/3/2015</td>\n",
       "      <td>27.88</td>\n",
       "      <td>2015-16</td>\n",
       "    </tr>\n",
       "    <tr>\n",
       "      <td>3</td>\n",
       "      <td>12/4/2015</td>\n",
       "      <td>27.83</td>\n",
       "      <td>2015-16</td>\n",
       "    </tr>\n",
       "    <tr>\n",
       "      <td>4</td>\n",
       "      <td>12/5/2015</td>\n",
       "      <td>28.14</td>\n",
       "      <td>2015-16</td>\n",
       "    </tr>\n",
       "  </tbody>\n",
       "</table>\n",
       "</div>"
      ],
      "text/plain": [
       "        Date  SST@90th_HS     Year\n",
       "0  12/1/2015        27.99  2015-16\n",
       "1  12/2/2015        27.76  2015-16\n",
       "2  12/3/2015        27.88  2015-16\n",
       "3  12/4/2015        27.83  2015-16\n",
       "4  12/5/2015        28.14  2015-16"
      ]
     },
     "execution_count": 4,
     "metadata": {},
     "output_type": "execute_result"
    }
   ],
   "source": [
    "# Import the data for the summer months for Central GBR region. \n",
    "#This data was saved using code in 'Central_GBR.ipynb'\n",
    "\n",
    "summer_central = pd.read_csv('Output/DataFiles/Summer_DF_Central_GBR.csv')\n",
    "summer_central.head()"
   ]
  },
  {
   "cell_type": "code",
   "execution_count": 5,
   "metadata": {},
   "outputs": [
    {
     "data": {
      "image/png": "[encoded data removed]",
      "text/plain": [
       "<Figure size 432x288 with 1 Axes>"
      ]
     },
     "metadata": {
      "needs_background": "light"
     },
     "output_type": "display_data"
    }
   ],
   "source": [
    "# Creating a box plot to compare the summer months for the 2 regions for the last five years\n",
    "plt.boxplot([summer_northern['SST@90th_HS'], summer_central['SST@90th_HS']],\n",
    "            labels=['Northern', 'Central'])\n",
    "plt.xlabel('Great Barrier Reef', fontsize='12')\n",
    "plt.ylabel('Sea Surface Temperature (°C)', fontsize='12')\n",
    "plt.title('Sea Surface Temperature(C°) for Summer Months', fontsize='14')\n",
    "plt.savefig('Output/SavedPlots/Northern_Central_Boxplot.png')\n",
    "plt.show()"
   ]
  },
  {
   "cell_type": "code",
   "execution_count": 6,
   "metadata": {},
   "outputs": [],
   "source": [
    "# Mean Values for SST\n",
    "northern_mean = summer_northern['SST@90th_HS'].mean()\n",
    "central_mean = summer_central['SST@90th_HS'].mean()"
   ]
  },
  {
   "cell_type": "code",
   "execution_count": 7,
   "metadata": {},
   "outputs": [
    {
     "data": {
      "image/png": "[encoded data removed]",
      "text/plain": [
       "<Figure size 576x432 with 2 Axes>"
      ]
     },
     "metadata": {
      "needs_background": "light"
     },
     "output_type": "display_data"
    },
    {
     "name": "stdout",
     "output_type": "stream",
     "text": [
      "The mean SST for Northern GBR is 29.3°C      and mean SST for Central GBR is 28.75°C\n"
     ]
    }
   ],
   "source": [
    "#Scatter plot and histogram for Northern vs Central GBR\n",
    "fig, axes= plt.subplots(nrows=2, ncols=1,figsize=(8,6))\n",
    "\n",
    "axes[0].set_title('Scatter plot and histogram for Northern vs Central GBR\\n', fontsize='14')\n",
    "axes[0].scatter(range(len(summer_northern['SST@90th_HS'])), summer_northern['SST@90th_HS'],label=\"Northern\")\n",
    "axes[0].scatter(range(len(summer_central['SST@90th_HS'])), summer_central['SST@90th_HS'],label=\"Central\")\n",
    "axes[0].set_ylabel('Sea Surface Temperature (°C)', fontsize='12')\n",
    "\n",
    "n_hist = axes[1].hist(summer_northern['SST@90th_HS'],alpha=0.7, label=\"Northern\")\n",
    "c_hist = axes[1].hist(summer_central['SST@90th_HS'],alpha=0.7,label=\"Central\")\n",
    "axes[1].set_xlabel('Sea Surface Temperature (°C)', fontsize='12')\n",
    "axes[1].axvline(northern_mean, color='steelblue', alpha = 0.9)\n",
    "axes[1].axvline(central_mean, color='orange', alpha = 0.9)\n",
    "plt.legend()\n",
    "plt.savefig('Output/SavedPlots/Northern_Central.png')\n",
    "plt.show()\n",
    "\n",
    "print(f'The mean SST for Northern GBR is {round(northern_mean,2)}°C\\\n",
    "      and mean SST for Central GBR is {round(central_mean,2)}°C')"
   ]
  },
  {
   "cell_type": "markdown",
   "metadata": {},
   "source": [
    "#### Using Independent T-Test"
   ]
  },
  {
   "cell_type": "markdown",
   "metadata": {},
   "source": [
    "Null Hypothesis: There is no statistical difference between the Sea Surface Temperature for Northern GBR and Central GBR for the summer months"
   ]
  },
  {
   "cell_type": "markdown",
   "metadata": {},
   "source": [
    "Alternate Hypothesis: Sea Surface Temperature at Northern GBR is different from Central GBR"
   ]
  },
  {
   "cell_type": "code",
   "execution_count": 8,
   "metadata": {},
   "outputs": [
    {
     "data": {
      "text/plain": [
       "Ttest_indResult(statistic=14.29023341559509, pvalue=6.520296304360302e-43)"
      ]
     },
     "execution_count": 8,
     "metadata": {},
     "output_type": "execute_result"
    }
   ],
   "source": [
    "sts.ttest_ind(summer_northern['SST@90th_HS'], summer_central['SST@90th_HS'], equal_var=False)"
   ]
  },
  {
   "cell_type": "markdown",
   "metadata": {},
   "source": [
    "Assuming 5% significance level, we reject the Null Hypothesis as pvalue < 0.05"
   ]
  },
  {
   "cell_type": "code",
   "execution_count": null,
   "metadata": {},
   "outputs": [],
   "source": []
  }
 ],
 "metadata": {
  "kernelspec": {
   "display_name": "Python 3",
   "language": "python",
   "name": "python3"
  },
  "language_info": {
   "codemirror_mode": {
    "name": "ipython",
    "version": 3
   },
   "file_extension": ".py",
   "mimetype": "text/x-python",
   "name": "python",
   "nbconvert_exporter": "python",
   "pygments_lexer": "ipython3",
   "version": "3.7.4"
  }
 },
 "nbformat": 4,
 "nbformat_minor": 2
}
