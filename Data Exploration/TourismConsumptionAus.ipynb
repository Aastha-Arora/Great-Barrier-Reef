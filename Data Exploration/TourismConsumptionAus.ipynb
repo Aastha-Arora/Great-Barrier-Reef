{
 "cells": [
  {
   "cell_type": "code",
   "execution_count": 1,
   "metadata": {},
   "outputs": [],
   "source": [
    "# python program to read in Australian Tourist Bureau Aggregate Consumption Data for 2006-2007, 2017-2018"
   ]
  },
  {
   "cell_type": "code",
   "execution_count": 2,
   "metadata": {},
   "outputs": [],
   "source": [
    "# resource libraries needed for data manipulation and visualization with plots\n",
    "import numpy as np\n",
    "import pandas as pd\n",
    "import matplotlib.pyplot as plt\n",
    "import scipy.stats as st\n"
   ]
  },
  {
   "cell_type": "code",
   "execution_count": 3,
   "metadata": {},
   "outputs": [],
   "source": [
    "# create file pointer for data file created from Austrailian Excel data\n",
    "TourCons_fp = \"./consumptiondata_aus.csv\""
   ]
  },
  {
   "cell_type": "code",
   "execution_count": 4,
   "metadata": {},
   "outputs": [],
   "source": [
    "# create file pointer for air and water daily max temperature data from Davies Reef, right in the middle of the GBR\n",
    "AirWaterTempMax_fp = \"./DaviesReefAirWaterTempMax.csv\""
   ]
  },
  {
   "cell_type": "code",
   "execution_count": 5,
   "metadata": {},
   "outputs": [],
   "source": [
    "# read in data and store in data frame\n",
    "TourCons_df = pd.read_csv(TourCons_fp, encoding='ISO-8859-1')"
   ]
  },
  {
   "cell_type": "code",
   "execution_count": 6,
   "metadata": {},
   "outputs": [],
   "source": [
    "# read in data and store in data frame\n",
    "AirWaterTempMax_df = pd.read_csv(AirWaterTempMax_fp, encoding='ISO-8859-1')"
   ]
  },
  {
   "cell_type": "code",
   "execution_count": 7,
   "metadata": {},
   "outputs": [
    {
     "data": {
      "text/html": [
       "<div>\n",
       "<style scoped>\n",
       "    .dataframe tbody tr th:only-of-type {\n",
       "        vertical-align: middle;\n",
       "    }\n",
       "\n",
       "    .dataframe tbody tr th {\n",
       "        vertical-align: top;\n",
       "    }\n",
       "\n",
       "    .dataframe thead th {\n",
       "        text-align: right;\n",
       "    }\n",
       "</style>\n",
       "<table border=\"1\" class=\"dataframe\">\n",
       "  <thead>\n",
       "    <tr style=\"text-align: right;\">\n",
       "      <th></th>\n",
       "      <th>Reporting Period</th>\n",
       "      <th>TNQ</th>\n",
       "      <th>NSW</th>\n",
       "      <th>VIC</th>\n",
       "      <th>QNS</th>\n",
       "    </tr>\n",
       "  </thead>\n",
       "  <tbody>\n",
       "    <tr>\n",
       "      <td>0</td>\n",
       "      <td>200607</td>\n",
       "      <td>3479</td>\n",
       "      <td>24197</td>\n",
       "      <td>15808</td>\n",
       "      <td>20131</td>\n",
       "    </tr>\n",
       "    <tr>\n",
       "      <td>1</td>\n",
       "      <td>200708</td>\n",
       "      <td>3502</td>\n",
       "      <td>25070</td>\n",
       "      <td>16771</td>\n",
       "      <td>21350</td>\n",
       "    </tr>\n",
       "    <tr>\n",
       "      <td>2</td>\n",
       "      <td>200809</td>\n",
       "      <td>3413</td>\n",
       "      <td>25295</td>\n",
       "      <td>17561</td>\n",
       "      <td>20888</td>\n",
       "    </tr>\n",
       "    <tr>\n",
       "      <td>3</td>\n",
       "      <td>200910</td>\n",
       "      <td>3208</td>\n",
       "      <td>25897</td>\n",
       "      <td>17993</td>\n",
       "      <td>20534</td>\n",
       "    </tr>\n",
       "    <tr>\n",
       "      <td>4</td>\n",
       "      <td>201011</td>\n",
       "      <td>3107</td>\n",
       "      <td>27548</td>\n",
       "      <td>18931</td>\n",
       "      <td>20389</td>\n",
       "    </tr>\n",
       "    <tr>\n",
       "      <td>5</td>\n",
       "      <td>201112</td>\n",
       "      <td>3579</td>\n",
       "      <td>27434</td>\n",
       "      <td>19680</td>\n",
       "      <td>22933</td>\n",
       "    </tr>\n",
       "    <tr>\n",
       "      <td>6</td>\n",
       "      <td>201213</td>\n",
       "      <td>3479</td>\n",
       "      <td>29150</td>\n",
       "      <td>20618</td>\n",
       "      <td>24248</td>\n",
       "    </tr>\n",
       "    <tr>\n",
       "      <td>7</td>\n",
       "      <td>201314</td>\n",
       "      <td>3569</td>\n",
       "      <td>30629</td>\n",
       "      <td>21440</td>\n",
       "      <td>23819</td>\n",
       "    </tr>\n",
       "    <tr>\n",
       "      <td>8</td>\n",
       "      <td>201415</td>\n",
       "      <td>3626</td>\n",
       "      <td>31495</td>\n",
       "      <td>22466</td>\n",
       "      <td>23969</td>\n",
       "    </tr>\n",
       "    <tr>\n",
       "      <td>9</td>\n",
       "      <td>201516</td>\n",
       "      <td>4125</td>\n",
       "      <td>33126</td>\n",
       "      <td>24172</td>\n",
       "      <td>25637</td>\n",
       "    </tr>\n",
       "    <tr>\n",
       "      <td>10</td>\n",
       "      <td>201617</td>\n",
       "      <td>3915</td>\n",
       "      <td>35012</td>\n",
       "      <td>26356</td>\n",
       "      <td>26530</td>\n",
       "    </tr>\n",
       "    <tr>\n",
       "      <td>11</td>\n",
       "      <td>201718</td>\n",
       "      <td>4316</td>\n",
       "      <td>37333</td>\n",
       "      <td>28267</td>\n",
       "      <td>28516</td>\n",
       "    </tr>\n",
       "  </tbody>\n",
       "</table>\n",
       "</div>"
      ],
      "text/plain": [
       "   Reporting Period   TNQ    NSW    VIC    QNS\n",
       "0           200607  3479  24197  15808  20131\n",
       "1           200708  3502  25070  16771  21350\n",
       "2           200809  3413  25295  17561  20888\n",
       "3           200910  3208  25897  17993  20534\n",
       "4           201011  3107  27548  18931  20389\n",
       "5           201112  3579  27434  19680  22933\n",
       "6           201213  3479  29150  20618  24248\n",
       "7           201314  3569  30629  21440  23819\n",
       "8           201415  3626  31495  22466  23969\n",
       "9           201516  4125  33126  24172  25637\n",
       "10          201617  3915  35012  26356  26530\n",
       "11          201718  4316  37333  28267  28516"
      ]
     },
     "execution_count": 7,
     "metadata": {},
     "output_type": "execute_result"
    }
   ],
   "source": [
    "TourCons_df"
   ]
  },
  {
   "cell_type": "code",
   "execution_count": 8,
   "metadata": {},
   "outputs": [
    {
     "data": {
      "text/html": [
       "<div>\n",
       "<style scoped>\n",
       "    .dataframe tbody tr th:only-of-type {\n",
       "        vertical-align: middle;\n",
       "    }\n",
       "\n",
       "    .dataframe tbody tr th {\n",
       "        vertical-align: top;\n",
       "    }\n",
       "\n",
       "    .dataframe thead th {\n",
       "        text-align: right;\n",
       "    }\n",
       "</style>\n",
       "<table border=\"1\" class=\"dataframe\">\n",
       "  <thead>\n",
       "    <tr style=\"text-align: right;\">\n",
       "      <th></th>\n",
       "      <th>date</th>\n",
       "      <th>AirTempMax</th>\n",
       "      <th>WaterTempMax</th>\n",
       "    </tr>\n",
       "  </thead>\n",
       "  <tbody>\n",
       "    <tr>\n",
       "      <td>0</td>\n",
       "      <td>20060101</td>\n",
       "      <td>28.333</td>\n",
       "      <td>28.446</td>\n",
       "    </tr>\n",
       "    <tr>\n",
       "      <td>1</td>\n",
       "      <td>20060102</td>\n",
       "      <td>28.308</td>\n",
       "      <td>28.571</td>\n",
       "    </tr>\n",
       "    <tr>\n",
       "      <td>2</td>\n",
       "      <td>20060103</td>\n",
       "      <td>28.045</td>\n",
       "      <td>28.483</td>\n",
       "    </tr>\n",
       "    <tr>\n",
       "      <td>3</td>\n",
       "      <td>20060104</td>\n",
       "      <td>28.245</td>\n",
       "      <td>28.646</td>\n",
       "    </tr>\n",
       "    <tr>\n",
       "      <td>4</td>\n",
       "      <td>20060105</td>\n",
       "      <td>28.521</td>\n",
       "      <td>28.846</td>\n",
       "    </tr>\n",
       "    <tr>\n",
       "      <td>...</td>\n",
       "      <td>...</td>\n",
       "      <td>...</td>\n",
       "      <td>...</td>\n",
       "    </tr>\n",
       "    <tr>\n",
       "      <td>5094</td>\n",
       "      <td>20191227</td>\n",
       "      <td>27.2</td>\n",
       "      <td>28.54</td>\n",
       "    </tr>\n",
       "    <tr>\n",
       "      <td>5095</td>\n",
       "      <td>20191228</td>\n",
       "      <td>26.7</td>\n",
       "      <td>28.45</td>\n",
       "    </tr>\n",
       "    <tr>\n",
       "      <td>5096</td>\n",
       "      <td>20191229</td>\n",
       "      <td>27.1</td>\n",
       "      <td>28.35</td>\n",
       "    </tr>\n",
       "    <tr>\n",
       "      <td>5097</td>\n",
       "      <td>20191230</td>\n",
       "      <td>27</td>\n",
       "      <td>28.51</td>\n",
       "    </tr>\n",
       "    <tr>\n",
       "      <td>5098</td>\n",
       "      <td>20191231</td>\n",
       "      <td>27.4</td>\n",
       "      <td>28.86</td>\n",
       "    </tr>\n",
       "  </tbody>\n",
       "</table>\n",
       "<p>5099 rows × 3 columns</p>\n",
       "</div>"
      ],
      "text/plain": [
       "          date AirTempMax WaterTempMax\n",
       "0     20060101     28.333       28.446\n",
       "1     20060102     28.308       28.571\n",
       "2     20060103     28.045       28.483\n",
       "3     20060104     28.245       28.646\n",
       "4     20060105     28.521       28.846\n",
       "...        ...        ...          ...\n",
       "5094  20191227       27.2        28.54\n",
       "5095  20191228       26.7        28.45\n",
       "5096  20191229       27.1        28.35\n",
       "5097  20191230         27        28.51\n",
       "5098  20191231       27.4        28.86\n",
       "\n",
       "[5099 rows x 3 columns]"
      ]
     },
     "execution_count": 8,
     "metadata": {},
     "output_type": "execute_result"
    }
   ],
   "source": [
    "AirWaterTempMax_df"
   ]
  },
  {
   "cell_type": "code",
   "execution_count": 9,
   "metadata": {},
   "outputs": [],
   "source": [
    "# let's setup the x axis as  column names of the data frame \n",
    "x_axis = ['2006-07', '2007-08', '2008-09', '2009-10', '2010-11', '2011-12', '2012-13', '2013-14', '2014-15', '2015-16', '2016-17','2017-18']"
   ]
  },
  {
   "cell_type": "code",
   "execution_count": 10,
   "metadata": {},
   "outputs": [],
   "source": [
    "# create data series from the data frame columns\n",
    "TNQ = TourCons_df['TNQ']\n",
    "NSW = TourCons_df['NSW']\n",
    "VIC = TourCons_df['VIC']\n",
    "QNS = TourCons_df['QNS']"
   ]
  },
  {
   "cell_type": "code",
   "execution_count": 11,
   "metadata": {},
   "outputs": [
    {
     "data": {
      "image/png": "[encoded data removed]",
      "text/plain": [
       "<Figure size 432x288 with 1 Axes>"
      ]
     },
     "metadata": {
      "needs_background": "light"
     },
     "output_type": "display_data"
    }
   ],
   "source": [
    "# create handles for line plot for each australian state except tropical north queensland due to scale of spending\n",
    "#TNQ_handle, = plt.plot(x_axis, TNQ, marker ='o', color='blue', label=\"Tropical North Queensland\")\n",
    "NSW_handle, = plt.plot(x_axis, NSW, marker ='*', color='red', label= \"New South Wales\")\n",
    "VIC_handle, = plt.plot(x_axis, VIC, marker ='*', color='green', label= \"Victoria\")\n",
    "QNS_handle, = plt.plot(x_axis, QNS, marker ='*', color='black', label=\"Queensland\")\n",
    "# set the text for the y axis\n",
    "plt.ylabel(\"Tourism Consumption in $million\")\n",
    "# Set the title for the graph\n",
    "plt.title(\"Austrailian State Tourism Consumption - $million basic prices 2007 - 2018\")\n",
    "# place the legend in the lower right\n",
    "plt.legend(loc=\"best\")\n",
    "# rotate the labels\n",
    "plt.xticks(rotation=90)\n",
    "# show the plot\n",
    "plt.show()"
   ]
  },
  {
   "cell_type": "code",
   "execution_count": 12,
   "metadata": {},
   "outputs": [
    {
     "data": {
      "image/png": "[encoded data removed]",
      "text/plain": [
       "<Figure size 432x288 with 1 Axes>"
      ]
     },
     "metadata": {
      "needs_background": "light"
     },
     "output_type": "display_data"
    }
   ],
   "source": [
    "# create and plot Tropical North Queensland\n",
    "TNQ_handle, = plt.plot(x_axis, TNQ, marker ='o', color='blue', label=\"Tropical North Queensland\")\n",
    "# set the text for the y axis\n",
    "plt.ylabel(\"Tourism Consumption in $million\")\n",
    "# Set the title for the graph\n",
    "plt.title(\"Austrailian State Tourism Consumption - $million basic prices 2007 - 2018\")\n",
    "# place the legend in the lower right\n",
    "plt.legend(loc=\"best\")\n",
    "# rotate the labels\n",
    "plt.xticks(rotation=90)\n",
    "# show the plot\n",
    "plt.show()"
   ]
  },
  {
   "cell_type": "code",
   "execution_count": null,
   "metadata": {},
   "outputs": [],
   "source": []
  },
  {
   "cell_type": "code",
   "execution_count": null,
   "metadata": {},
   "outputs": [],
   "source": []
  },
  {
   "cell_type": "code",
   "execution_count": null,
   "metadata": {},
   "outputs": [],
   "source": []
  },
  {
   "cell_type": "code",
   "execution_count": null,
   "metadata": {},
   "outputs": [],
   "source": []
  },
  {
   "cell_type": "code",
   "execution_count": null,
   "metadata": {},
   "outputs": [],
   "source": []
  }
 ],
 "metadata": {
  "kernelspec": {
   "display_name": "Python 3",
   "language": "python",
   "name": "python3"
  },
  "language_info": {
   "codemirror_mode": {
    "name": "ipython",
    "version": 3
   },
   "file_extension": ".py",
   "mimetype": "text/x-python",
   "name": "python",
   "nbconvert_exporter": "python",
   "pygments_lexer": "ipython3",
   "version": "3.7.4"
  }
 },
 "nbformat": 4,
 "nbformat_minor": 2
}
