{
 "cells": [
  {
   "cell_type": "code",
   "execution_count": null,
   "metadata": {},
   "outputs": [],
   "source": [
    "# python program to read in Australian Tourist Bureau Aggregate Consumption Data for 2006-2007, 2017-2018"
   ]
  },
  {
   "cell_type": "code",
   "execution_count": null,
   "metadata": {},
   "outputs": [],
   "source": [
    "# resource libraries needed for data manipulation and visualization with plots\n",
    "import numpy as np\n",
    "import pandas as pd\n",
    "import matplotlib.pyplot as plt\n",
    "import scipy.stats as st\n"
   ]
  },
  {
   "cell_type": "code",
   "execution_count": null,
   "metadata": {},
   "outputs": [],
   "source": [
    "# create file pointer for data file created from Austrailian Excel data\n",
    "TourCons_fp = \"./consumptiondata_aus.csv\""
   ]
  },
  {
   "cell_type": "code",
   "execution_count": null,
   "metadata": {},
   "outputs": [],
   "source": [
    "# create file pointer for air and water daily max temperature data from Davies Reef, right in the middle of the GBR\n",
    "AirWaterTempMax_fp = \"./DaviesReefAirWaterTempMax.csv\""
   ]
  },
  {
   "cell_type": "code",
   "execution_count": null,
   "metadata": {},
   "outputs": [],
   "source": [
    "# read in data and store in data frame\n",
    "TourCons_df = pd.read_csv(TourCons_fp, encoding='ISO-8859-1')"
   ]
  },
  {
   "cell_type": "code",
   "execution_count": null,
   "metadata": {},
   "outputs": [],
   "source": [
    "# read in data and store in data frame\n",
    "AirWaterTempMax_df = pd.read_csv(AirWaterTempMax_fp, encoding='ISO-8859-1')"
   ]
  },
  {
   "cell_type": "code",
   "execution_count": null,
   "metadata": {},
   "outputs": [],
   "source": [
    "# let's setup the x axis as  column names of the data frame \n",
    "x_axis = ['2006-07', '2007-08', '2008-09', '2009-10', '2010-11', '2011-12', '2012-13', '2013-14', '2014-15', '2015-16', '2016-17','2017-18']"
   ]
  },
  {
   "cell_type": "code",
   "execution_count": null,
   "metadata": {},
   "outputs": [],
   "source": [
    "# create data series from the data frame columns\n",
    "TNQ = TourCons_df['TNQ']\n",
    "NSW = TourCons_df['NSW']\n",
    "VIC = TourCons_df['VIC']\n",
    "QNS = TourCons_df['QNS']"
   ]
  },
  {
   "cell_type": "code",
   "execution_count": null,
   "metadata": {},
   "outputs": [],
   "source": [
    "# create handles for line plot for each australian state except tropical north queensland due to scale of spending\n",
    "#TNQ_handle, = plt.plot(x_axis, TNQ, marker ='o', color='blue', label=\"Tropical North Queensland\")\n",
    "NSW_handle, = plt.plot(x_axis, NSW, marker ='*', color='red', label= \"New South Wales\")\n",
    "VIC_handle, = plt.plot(x_axis, VIC, marker ='*', color='green', label= \"Victoria\")\n",
    "QNS_handle, = plt.plot(x_axis, QNS, marker ='*', color='black', label=\"Queensland\")\n",
    "# set the text for the y axis\n",
    "plt.ylabel(\"Tourism Consumption in $million\")\n",
    "# Set the title for the graph\n",
    "plt.title(\"Austrailian State Tourism Consumption - $million basic prices 2007 - 2018\")\n",
    "# place the legend in the lower right\n",
    "plt.legend(loc=\"best\")\n",
    "# rotate the labels\n",
    "plt.xticks(rotation=90)\n",
    "# show the plot\n",
    "plt.show()"
   ]
  },
  {
   "cell_type": "code",
   "execution_count": null,
   "metadata": {},
   "outputs": [],
   "source": [
    "# create and plot Tropical North Queensland\n",
    "TNQ_handle, = plt.plot(x_axis, TNQ, marker ='o', color='blue', label=\"Tropical North Queensland\")\n",
    "# set the text for the y axis\n",
    "plt.ylabel(\"Tourism Consumption in $million\")\n",
    "# Set the title for the graph\n",
    "plt.title(\"Austrailian State Tourism Consumption - $million basic prices 2007 - 2018\")\n",
    "# place the legend in the lower right\n",
    "plt.legend(loc=\"best\")\n",
    "# rotate the labels\n",
    "plt.xticks(rotation=90)\n",
    "# show the plot\n",
    "plt.show()"
   ]
  },
  {
   "cell_type": "code",
   "execution_count": null,
   "metadata": {},
   "outputs": [],
   "source": [
    "# let's examine the temperature data, for ease of analysis, convert to Fahenheit to expand scale of y axis of temp, x axis is time period measured\n",
    "# we'll need a new data frame to hold the values"
   ]
  },
  {
   "cell_type": "code",
   "execution_count": null,
   "metadata": {},
   "outputs": [],
   "source": [
    "AirWaterTempMax_Fht_df = pd.DataFrame()"
   ]
  },
  {
   "cell_type": "code",
   "execution_count": null,
   "metadata": {},
   "outputs": [],
   "source": [
    "# let's bring over the date column first as it's going to be the x axix data\n",
    "AirWaterTempMax_Fht_df = AirWaterTempMax_df"
   ]
  },
  {
   "cell_type": "code",
   "execution_count": null,
   "metadata": {},
   "outputs": [],
   "source": [
    "AirWaterTempMax_Fht_df"
   ]
  },
  {
   "cell_type": "code",
   "execution_count": null,
   "metadata": {},
   "outputs": [],
   "source": [
    "type(AirWaterTempMax_df['AirTempMax'])"
   ]
  },
  {
   "cell_type": "code",
   "execution_count": null,
   "metadata": {},
   "outputs": [],
   "source": [
    "# to get converted value, we're going to need to loop through the dates as we want a date, temp_f pair to graph\n",
    "# Conversion formula is (Deg_C * (9/5)) + 32 = Deg_f  \n",
    "# For Deg_C = 0, this evaluates to 0 * (9/5) + 32 = Deg_F which equals 32 = Deg_F"
   ]
  },
  {
   "cell_type": "code",
   "execution_count": null,
   "metadata": {},
   "outputs": [],
   "source": [
    "\n",
    "\n",
    "#dropping not available data\n",
    "AirWaterTempMax_df = AirWaterTempMax_df.dropna(how = 'any')\n",
    "AirWaterTempMax_df.shape"
   ]
  },
  {
   "cell_type": "code",
   "execution_count": null,
   "metadata": {},
   "outputs": [],
   "source": [
    "# need to convert to astype int to get formula to work on entire data frame at once\n",
    "conversion_factor = 0\n",
    "conversion_factor = (9/5)\n",
    "AirWaterTempMax_Fht_df['AirTempMax_Fht'] = AirWaterTempMax_Fht_df['AirTempMax'] * conversion_factor + 32\n",
    "AirWaterTempMax_Fht_df['WaterTempMax_Fht'] = AirWaterTempMax_Fht_df['WaterTempMax'] * conversion_factor + 32\n"
   ]
  },
  {
   "cell_type": "code",
   "execution_count": null,
   "metadata": {},
   "outputs": [],
   "source": [
    "x_axis = AirWaterTempMax_Fht_df['date']"
   ]
  },
  {
   "cell_type": "code",
   "execution_count": null,
   "metadata": {},
   "outputs": [],
   "source": [
    "Temp_Fah_handle, = plt.plot(x_axis, AirWaterTempMax_Fht_df['AirTempMax_Fht'], marker ='o', color='blue', label=\"Davies Reef Air Temp Max\")\n",
    "# set the text for the y axis\n",
    "plt.ylabel(\"Temperture in Degrees Fahenheit\")\n",
    "# Set the title for the graph\n",
    "plt.title(\"Air Temp GBR for 2000 - 20019, Davies Reef\")\n",
    "# place the legend in the lower right\n",
    "plt.legend(loc=\"best\")\n",
    "# rotate the labels\n",
    "plt.xticks(rotation=90)\n",
    "# show the plot\n",
    "plt.show()"
   ]
  },
  {
   "cell_type": "code",
   "execution_count": null,
   "metadata": {},
   "outputs": [],
   "source": [
    "# Let's look at a subset of the data, for the timer period 20150101 to the end of the data set\n",
    "AirWaterTempMax_Fht_subset_df = pd.DataFrame()"
   ]
  },
  {
   "cell_type": "code",
   "execution_count": null,
   "metadata": {},
   "outputs": [],
   "source": [
    "AirWaterTempMax_Fht_subset_df = AirWaterTempMax_Fht_df"
   ]
  },
  {
   "cell_type": "code",
   "execution_count": null,
   "metadata": {},
   "outputs": [],
   "source": [
    "AirWaterTempMax_Fht_subset_df = AirWaterTempMax_Fht_subset_df.loc[(AirWaterTempMax_Fht_subset_df['date'] >= 20160101) & (AirWaterTempMax_Fht_subset_df['date'] <= 20191231)]"
   ]
  },
  {
   "cell_type": "code",
   "execution_count": null,
   "metadata": {},
   "outputs": [],
   "source": [
    "AirWaterTempMax_Fht_subset_df"
   ]
  },
  {
   "cell_type": "code",
   "execution_count": null,
   "metadata": {},
   "outputs": [],
   "source": [
    "x_axis = AirWaterTempMax_Fht_subset_df['date']"
   ]
  },
  {
   "cell_type": "code",
   "execution_count": null,
   "metadata": {},
   "outputs": [],
   "source": [
    "AirTemp_Fah_handle, = plt.plot(x_axis, AirWaterTempMax_Fht_subset_df['AirTempMax_Fht'], marker ='o', color='blue', label=\"Davies Reef Air Temp Max\")\n",
    "# set the text for the y axis\n",
    "plt.ylabel(\"Temperture in Degrees Fahenheit\")\n",
    "# Set the title for the graph\n",
    "plt.title(\"Air Temp GBR for 2015 - 20019, Davies Reef\")\n",
    "# place the legend in the lower right\n",
    "plt.legend(loc=\"best\")\n",
    "# rotate the labels\n",
    "plt.xticks(rotation=90)\n",
    "# show the plot\n",
    "plt.show()"
   ]
  },
  {
   "cell_type": "code",
   "execution_count": null,
   "metadata": {},
   "outputs": [],
   "source": [
    "# let's look at the max water temp, corals need temp between 18 and 29 C for good health\n",
    "WaterTemp_handle, = plt.plot(x_axis, AirWaterTempMax_Fht_subset_df['WaterTempMax'], marker ='o', color='blue', label=\"Davies Reef Water Temp Max\")\n",
    "# set the text for the y axis\n",
    "plt.ylabel(\"Temperture in Degrees Centigrage\")\n",
    "# Set the title for the graph\n",
    "plt.title(\"Air Temp GBR for 2015 - 20019, Davies Reef\")\n",
    "# place the legend in the lower right\n",
    "plt.legend(loc=\"best\")\n",
    "# rotate the labels\n",
    "plt.xticks(rotation=90)\n",
    "# show the plot\n",
    "plt.show()"
   ]
  },
  {
   "cell_type": "code",
   "execution_count": null,
   "metadata": {},
   "outputs": [],
   "source": []
  },
  {
   "cell_type": "code",
   "execution_count": null,
   "metadata": {},
   "outputs": [],
   "source": []
  }
 ],
 "metadata": {
  "kernelspec": {
   "display_name": "Python 3",
   "language": "python",
   "name": "python3"
  },
  "language_info": {
   "codemirror_mode": {
    "name": "ipython",
    "version": 3
   },
   "file_extension": ".py",
   "mimetype": "text/x-python",
   "name": "python",
   "nbconvert_exporter": "python",
   "pygments_lexer": "ipython3",
   "version": "3.7.4"
  }
 },
 "nbformat": 4,
 "nbformat_minor": 2
}
